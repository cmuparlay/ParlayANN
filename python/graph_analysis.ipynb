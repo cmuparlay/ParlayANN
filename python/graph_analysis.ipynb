{
 "cells": [
  {
   "cell_type": "code",
   "execution_count": null,
   "metadata": {},
   "outputs": [],
   "source": [
    "import _ParlayANNpy as pann\n",
    "import wrapper as wp\n",
    "import os\n",
    "import numpy as np\n",
    "import heapq\n",
    "from tqdm import tqdm\n",
    "import matplotlib.pyplot as plt\n",
    "\n",
    "print(dir(pann))\n",
    "\n",
    "FERN_DATA_DIR = \"/ssd1/anndata/bigann/\"\n",
    "AWARE_DATA_DIR = \"/ssd1/data/bigann/\"\n",
    "HARSHA_DATA_DIR = \"/home/ben/Documents/data/yfcc100M/\"\n",
    "\n",
    "DATA_DIR = HARSHA_DATA_DIR\n",
    "\n",
    "output_filename = os.path.join(DATA_DIR, \"vamana_new\")\n"
   ]
  },
  {
   "cell_type": "code",
   "execution_count": null,
   "metadata": {},
   "outputs": [],
   "source": [
    "\n",
    "# wp.build_pynndescent_index(\"Euclidian\", \"uint8\", DATA_DIR + \"base.1B.u8bin.crop_nb_1000000\", DATA_DIR + \"outputs/pynn\", 40, 10, 100, 1.2, .05)\n",
    "# wp.build_vamana_index(\"Euclidian\", \"uint8\", os.path.join(DATA_DIR, \"base.10M.u8bin.crop_nb_10000000\"), output_filename, 64, 200, 1.2, True)\n",
    "\n",
    "# print(\"Index built\")\n"
   ]
  },
  {
   "cell_type": "code",
   "execution_count": null,
   "metadata": {},
   "outputs": [],
   "source": [
    "\n",
    "Index = wp.load_index(\"Euclidian\", \"uint8\", os.path.join(DATA_DIR, \"base.10M.u8bin.crop_nb_10000000\"), output_filename, 10000000, 192, False)\n",
    "neighbors, distances = Index.batch_search_from_string(DATA_DIR + \"query.public.100K.u8bin\", 100000, 10, 100)\n",
    "\n",
    "Index.check_recall(DATA_DIR + \"GT.public.ibin\", neighbors, 10)\n"
   ]
  },
  {
   "cell_type": "code",
   "execution_count": null,
   "metadata": {},
   "outputs": [],
   "source": [
    "out_neighbors, lengths = Index.edges_and_lengths()\n",
    "\n",
    "print(out_neighbors[0], lengths[0])\n",
    "print(out_neighbors.shape, lengths.shape)"
   ]
  },
  {
   "cell_type": "code",
   "execution_count": null,
   "metadata": {},
   "outputs": [],
   "source": [
    "# how many points have an edge to the first point?\n",
    "print(sum(out_neighbors[0] == 0), sum())"
   ]
  },
  {
   "cell_type": "code",
   "execution_count": null,
   "metadata": {},
   "outputs": [],
   "source": [
    "# dijkstra's to compute the walk distance from the first point to all other points\n",
    "walk_distances = np.full(10000000, np.iinfo(np.uint32).max, dtype=np.uint32)\n",
    "walk_distances[0] = 0\n",
    "visited = np.zeros(10000000, dtype=bool)\n",
    "\n",
    "pbar = tqdm(total=10000000)\n",
    "\n",
    "priority_queue = []\n",
    "heapq.heappush(priority_queue, (0, 0))  # (distance, node)\n",
    "\n",
    "pbar = tqdm(total=10000000)\n",
    "\n",
    "while priority_queue:\n",
    "    current_distance, current_node = heapq.heappop(priority_queue)\n",
    "    \n",
    "    if visited[current_node]:\n",
    "        continue\n",
    "    \n",
    "    # Mark as visited\n",
    "    visited[current_node] = True\n",
    "    pbar.update(1)\n",
    "    \n",
    "    # Process each neighbor\n",
    "    for neighbor in out_neighbors[current_node]:\n",
    "        if neighbor < 10000000 and not visited[neighbor]:\n",
    "            new_distance = current_distance + 1  # assuming each edge has weight 1\n",
    "            if new_distance < walk_distances[neighbor]:\n",
    "                walk_distances[neighbor] = new_distance\n",
    "                heapq.heappush(priority_queue, (new_distance, neighbor))\n",
    "    \n",
    "pbar.close()\n",
    "\n",
    "\n",
    "# write walk distances\n",
    "print(\"Writing walk distances\")\n",
    "np.save(DATA_DIR + \"walk_distances.npy\", walk_distances)\n",
    "print(\"Done\")"
   ]
  },
  {
   "cell_type": "code",
   "execution_count": null,
   "metadata": {},
   "outputs": [],
   "source": [
    "# read walk distances\n",
    "print(\"Reading walk distances\")\n",
    "walk_distances = np.load(DATA_DIR + \"walk_distances.npy\")\n",
    "print(\"Done\")\n",
    "connected_walk_distances = walk_distances[walk_distances < 10000000]\n",
    "\n",
    "print(len(connected_walk_distances), len(connected_walk_distances) / 10000000, np.max(connected_walk_distances), np.mean(connected_walk_distances), np.median(connected_walk_distances))"
   ]
  },
  {
   "cell_type": "code",
   "execution_count": null,
   "metadata": {},
   "outputs": [],
   "source": [
    "all_lengths = lengths\n",
    "flattened_lengths = lengths.flatten()[out_neighbors.flatten() < 10000000]\n",
    "sqrt_lengths = np.sqrt(flattened_lengths)\n",
    "# computing the lengths of the edges proportional to the first edge\n",
    "proportional_lengths = (lengths / lengths[0]).flatten()[out_neighbors.flatten() < 10000000]"
   ]
  },
  {
   "cell_type": "code",
   "execution_count": null,
   "metadata": {},
   "outputs": [],
   "source": [
    "\n",
    "fig, axs = plt.subplots(1, 2, figsize=(10, 5))\n",
    "axs[0].hist(sqrt_lengths, bins=100)\n",
    "axs[1].hist(proportional_lengths, bins=100)\n",
    "plt.show()\n"
   ]
  },
  {
   "cell_type": "code",
   "execution_count": null,
   "metadata": {},
   "outputs": [],
   "source": [
    "# %%\n",
    "plt.hist(np.log(sqrt_lengths), bins=100)\n",
    "plt.show()\n"
   ]
  },
  {
   "cell_type": "code",
   "execution_count": null,
   "metadata": {},
   "outputs": [],
   "source": [
    "# %%\n",
    "plt.hist(walk_distances[walk_distances < 10000000], bins=np.max(walk_distances[walk_distances < 10000000]))\n",
    "plt.show()\n"
   ]
  },
  {
   "cell_type": "code",
   "execution_count": null,
   "metadata": {},
   "outputs": [],
   "source": [
    "# %%\n",
    "# plot the distribution of the lengths of the edges at different dijkstra distances\n",
    "# the histogram is normalized by the number of edges at each distance\n",
    "fig, axs = plt.subplots(1, 1, figsize=(10, 5))\n",
    "\n"
   ]
  }
 ],
 "metadata": {
  "kernelspec": {
   "display_name": "bigann",
   "language": "python",
   "name": "python3"
  },
  "language_info": {
   "name": "python",
   "version": "3.10.12"
  }
 },
 "nbformat": 4,
 "nbformat_minor": 2
}

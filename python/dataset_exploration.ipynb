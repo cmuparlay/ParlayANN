{
 "cells": [
  {
   "cell_type": "code",
   "execution_count": 10,
   "metadata": {
    "notebookRunGroups": {
     "groupValue": "1"
    }
   },
   "outputs": [],
   "source": [
    "import pandas as pd\n",
    "import numpy as np\n",
    "from datetime import datetime\n",
    "import time\n",
    "from collections import defaultdict\n",
    "\n",
    "import os\n",
    "import _ParlayANNpy as pann\n",
    "import numpy as np\n",
    "import wrapper as wp\n",
    "from scipy.sparse import csr_matrix\n",
    "from tqdm import tqdm"
   ]
  },
  {
   "cell_type": "code",
   "execution_count": 11,
   "metadata": {
    "notebookRunGroups": {
     "groupValue": "1"
    }
   },
   "outputs": [],
   "source": [
    "FERN_DATA_DIR = \"/ssd1/anndata/bigann/data/\"\n",
    "AWARE_DATA_DIR = \"/ssd1/data/bigann/data/\"\n",
    "\n",
    "DATA_DIR = FERN_DATA_DIR\n",
    "POINTS_PATH = DATA_DIR + \"yfcc100M/base.10M.u8bin.crop_nb_10000000\"\n",
    "FILTER_PATH = DATA_DIR + 'yfcc100M/base.metadata.10M.spmat'"
   ]
  },
  {
   "cell_type": "code",
   "execution_count": 3,
   "metadata": {},
   "outputs": [
    {
     "name": "stdout",
     "output_type": "stream",
     "text": [
      "Detected 10000000 points with dimension 192\n"
     ]
    }
   ],
   "source": [
    "ds_constructor = wp.init_filtered_dataset('Euclidian', 'uint8')\n",
    "ds = ds_constructor(POINTS_PATH, FILTER_PATH)"
   ]
  },
  {
   "cell_type": "code",
   "execution_count": 4,
   "metadata": {},
   "outputs": [
    {
     "data": {
      "text/plain": [
       "163834.0"
      ]
     },
     "execution_count": 4,
     "metadata": {},
     "output_type": "execute_result"
    }
   ],
   "source": [
    "ds.distance(244, 897) # distance between two points"
   ]
  },
  {
   "cell_type": "code",
   "execution_count": 5,
   "metadata": {},
   "outputs": [
    {
     "data": {
      "text/plain": [
       "(10000000, 200386)"
      ]
     },
     "execution_count": 5,
     "metadata": {},
     "output_type": "execute_result"
    }
   ],
   "source": [
    "(ds.size(), ds.get_n_filters()) # (number of points in the dataset, number of filters in the dataset)"
   ]
  },
  {
   "cell_type": "code",
   "execution_count": 6,
   "metadata": {},
   "outputs": [
    {
     "data": {
      "text/plain": [
       "(97939, 13)"
      ]
     },
     "execution_count": 6,
     "metadata": {},
     "output_type": "execute_result"
    }
   ],
   "source": [
    "(ds.get_filter_size(0), ds.get_point_size(0)) # (number of points associated with the first filter, number of filters associated with the first point) \n",
    "# these are kinda useless idk why I added them"
   ]
  },
  {
   "cell_type": "code",
   "execution_count": 7,
   "metadata": {},
   "outputs": [
    {
     "data": {
      "text/plain": [
       "array([  58816,  113064,  188955,  370216,  434003,  434004,  469554,\n",
       "        920850, 1254536, 1360330, 1774795, 2083236, 2266041, 2321204,\n",
       "       2416130, 2427195, 2595615, 2595920, 2595921, 2695724, 2794821,\n",
       "       2794822, 2796437, 3008463, 3008464, 3365302, 3766123, 3899782,\n",
       "       3988855, 4309074, 4597811, 4650614, 5045215, 5153757, 5198273,\n",
       "       5268804, 5268805, 5268806, 5300685, 5386043, 5425117, 5597575,\n",
       "       5634004, 5658301, 5726002, 5789477, 5820154], dtype=int32)"
      ]
     },
     "execution_count": 7,
     "metadata": {},
     "output_type": "execute_result"
    }
   ],
   "source": [
    "ds.get_filter_points(87983) # numpy array of points with label 87983"
   ]
  },
  {
   "cell_type": "code",
   "execution_count": 8,
   "metadata": {},
   "outputs": [
    {
     "data": {
      "text/plain": [
       "array([    3,    21,    23,   762,  1228,  1460,  3295,  6299, 10176,\n",
       "       10177, 10178], dtype=int32)"
      ]
     },
     "execution_count": 8,
     "metadata": {},
     "output_type": "execute_result"
    }
   ],
   "source": [
    "ds.get_point_filters(244) # numpy array of filters for point 244"
   ]
  },
  {
   "cell_type": "code",
   "execution_count": 9,
   "metadata": {},
   "outputs": [
    {
     "data": {
      "text/plain": [
       "array([4205554, 4651584, 6189153, 6321122, 6455802, 6519911, 6733346,\n",
       "       6758710, 6833602, 7076657, 7091664, 7548083, 7561881, 7807613,\n",
       "       7876423, 7948812, 7985118, 8008618, 8227361, 8227362, 8464785,\n",
       "       9134880, 9228882, 9449009, 9544341, 9671039], dtype=int32)"
      ]
     },
     "execution_count": 9,
     "metadata": {},
     "output_type": "execute_result"
    }
   ],
   "source": [
    "ds.get_filter_intersection(2, 244) # numpy array of points that have both label 2 and 244"
   ]
  },
  {
   "cell_type": "code",
   "execution_count": 10,
   "metadata": {},
   "outputs": [
    {
     "data": {
      "text/plain": [
       "array([    2,    16,    29,   244,  1398,  1856,  4008, 72586],\n",
       "      dtype=int32)"
      ]
     },
     "execution_count": 10,
     "metadata": {},
     "output_type": "execute_result"
    }
   ],
   "source": [
    "ds.get_point_intersection(4205554, 4651584) # numpy array of filters that both point 4205554 and 4651584 have"
   ]
  },
  {
   "cell_type": "markdown",
   "metadata": {},
   "source": [
    "## Exploration"
   ]
  },
  {
   "cell_type": "code",
   "execution_count": 11,
   "metadata": {},
   "outputs": [
    {
     "name": "stdout",
     "output_type": "stream",
     "text": [
      "43\n",
      "[1, 2, 3, 4, 5, 6, 7, 8, 9, 10, 11, 12, 13, 14, 15, 16, 17, 18, 19, 20, 21, 22, 23, 24, 25, 28, 29, 33, 35, 36, 38, 89, 90, 91, 93, 95, 98, 100, 103, 106, 107, 336, 345]\n"
     ]
    }
   ],
   "source": [
    "# get the index of all the filters with at least 100k points\n",
    "big_filters = []\n",
    "for i in range(ds.get_n_filters()):\n",
    "    if ds.get_filter_size(i) > 100000:\n",
    "        big_filters.append(i)\n",
    "\n",
    "print(len(big_filters))\n",
    "print(big_filters)"
   ]
  },
  {
   "cell_type": "code",
   "execution_count": 12,
   "metadata": {},
   "outputs": [
    {
     "data": {
      "text/plain": [
       "array([    1,    18,    26,   441,   875,  2865, 15093, 17232, 20945,\n",
       "       22528, 29006, 93290], dtype=int32)"
      ]
     },
     "execution_count": 12,
     "metadata": {},
     "output_type": "execute_result"
    }
   ],
   "source": [
    "ds.get_point_filters(108757)"
   ]
  },
  {
   "cell_type": "code",
   "execution_count": null,
   "metadata": {},
   "outputs": [],
   "source": []
  },
  {
   "cell_type": "markdown",
   "metadata": {},
   "source": [
    "# Comparison"
   ]
  },
  {
   "cell_type": "code",
   "execution_count": 12,
   "metadata": {
    "notebookRunGroups": {
     "groupValue": "1"
    }
   },
   "outputs": [],
   "source": [
    "vector_extensions = {\n",
    "    'yfcc-10M': \"yfcc100M/base.10M.u8bin.crop_nb_10000000\",\n",
    "    'wiki_sentence': \"wiki_sentence/base.35M.4k.fbin\",\n",
    "    'uqv': \"uqv/uqv_base.fvec\",\n",
    "    'audio': \"audio/audio_base.fvec\",\n",
    "    'crawl': \"crawl/crawl_base.fvec\",\n",
    "    'sift': \"sift/sift_base.fvec\",\n",
    "    'gist': \"gist/gist_base.fvec\",\n",
    "    'msong': \"msong/msong_base.fvec\"\n",
    "}\n",
    "\n",
    "metadata_extensions = {\n",
    "    'yfcc-10M': \"yfcc100M/base.metadata.10M.spmat\",\n",
    "    'wiki_sentence': \"wiki_sentence/base.35M.4k.metadata.spmat\",\n",
    "    'uqv': \"uqv/label_uqv_base.spmat\",\n",
    "    'audio': \"audio/label_audio_base.spmat\",\n",
    "    'crawl': \"crawl/label_crawl_base.spmat\",\n",
    "    'sift': \"sift/label_sift_base.spmat\",\n",
    "    'gist': \"gist/label_gist_base.spmat\",\n",
    "    'msong': \"msong/label_msong_base.spmat\"\n",
    "}\n",
    "\n",
    "query_vector_extensions = {\n",
    "    'yfcc-10M': \"yfcc100M/query.public.100K.u8bin\",\n",
    "    \"wiki_sentence\": \"wiki_sentence/wikipedia_simple_query_embeddings.bin\",\n",
    "    'uqv': \"uqv/uqv_query.fvec\",\n",
    "    'audio': \"audio/audio_query.fvec\",\n",
    "    'crawl': \"crawl/crawl_query.fvec\",\n",
    "    'sift': \"sift/sift_query.fvec\",\n",
    "    'gist': \"gist/gist_query.fvec\",\n",
    "    'msong': \"msong/msong_query.fvec\"\n",
    "}\n",
    "\n",
    "query_metadata_extensions = {\n",
    "    'yfcc-10M': \"yfcc100M/query.metadata.public.100K.spmat\",\n",
    "    \"wiki_sentence\": \"wiki_sentence/wikipedia_simple_query_labels_numeric_double_common.spmat\",\n",
    "    'uqv': \"uqv/label_uqv_query.spmat\",\n",
    "    'audio': \"audio/label_audio_query.spmat\",\n",
    "    'crawl': \"crawl/label_crawl_query.spmat\",\n",
    "    'sift': \"sift/label_sift_query.spmat\",\n",
    "    'gist': \"gist/label_gist_query.spmat\",\n",
    "    'msong': \"msong/label_msong_query.spmat\"\n",
    "}\n",
    "\n",
    "types = {\n",
    "    'yfcc-10M': ('Euclidian', 'uint8'),\n",
    "    'wiki_sentence': ('mips', 'float'),\n",
    "    'uqv': ('mips', 'float'),\n",
    "    'audio': ('mips', 'float'),\n",
    "    'crawl': ('mips', 'float'),\n",
    "    'sift': ('mips', 'float'),\n",
    "    'gist': ('mips', 'float'),\n",
    "    'msong': ('mips', 'float')\n",
    "}"
   ]
  },
  {
   "cell_type": "code",
   "execution_count": 13,
   "metadata": {
    "notebookRunGroups": {
     "groupValue": "1"
    }
   },
   "outputs": [
    {
     "name": "stdout",
     "output_type": "stream",
     "text": [
      "yfcc-10M\n",
      "10000000 200386\n",
      "Detected 10000000 points with dimension 192\n",
      "Detected 100000 points with dimension 192\n"
     ]
    },
    {
     "name": "stderr",
     "output_type": "stream",
     "text": [
      "100%|██████████| 100000/100000 [00:31<00:00, 3191.23it/s]\n"
     ]
    },
    {
     "name": "stdout",
     "output_type": "stream",
     "text": [
      "wiki_sentence\n",
      "Detected 35000000 points with dimension 768\n",
      "35000000 4000\n",
      "Detected 5000 points with dimension 768\n"
     ]
    },
    {
     "name": "stderr",
     "output_type": "stream",
     "text": [
      "100%|██████████| 5000/5000 [00:51<00:00, 97.10it/s] \n"
     ]
    },
    {
     "name": "stdout",
     "output_type": "stream",
     "text": [
      "uqv\n",
      "Detected 1000000 points with dimension 256\n",
      "Detected 10000 points with dimension 1000000 7\n",
      "256\n"
     ]
    },
    {
     "name": "stderr",
     "output_type": "stream",
     "text": [
      "100%|██████████| 10000/10000 [00:58<00:00, 172.04it/s]\n"
     ]
    },
    {
     "name": "stdout",
     "output_type": "stream",
     "text": [
      "audio\n",
      "53387 7\n",
      "Detected 53387 points with dimension 192\n",
      "Detected 200 points with dimension 192\n"
     ]
    },
    {
     "name": "stderr",
     "output_type": "stream",
     "text": [
      "100%|██████████| 200/200 [00:00<00:00, 2695.68it/s]\n"
     ]
    },
    {
     "name": "stdout",
     "output_type": "stream",
     "text": [
      "crawl\n",
      "1989995 7\n",
      "Detected 1989995 points with dimension 300\n",
      "Aligning dimension to 304\n",
      "Detected 10000 points with dimension 300\n",
      "Aligning dimension to 304\n"
     ]
    },
    {
     "name": "stderr",
     "output_type": "stream",
     "text": [
      "100%|██████████| 10000/10000 [01:55<00:00, 86.47it/s]\n"
     ]
    },
    {
     "name": "stdout",
     "output_type": "stream",
     "text": [
      "sift\n",
      "1000000 7\n",
      "Detected 1000000 points with dimension 128\n",
      "Detected 10000 points with dimension 128\n"
     ]
    },
    {
     "name": "stderr",
     "output_type": "stream",
     "text": [
      "100%|██████████| 10000/10000 [00:58<00:00, 169.57it/s]\n"
     ]
    },
    {
     "name": "stdout",
     "output_type": "stream",
     "text": [
      "gist\n",
      "Detected 1000000 points with dimension 960\n",
      "Detected 1000 points with dimension 960\n",
      "1000000 7\n"
     ]
    },
    {
     "name": "stderr",
     "output_type": "stream",
     "text": [
      "100%|██████████| 1000/1000 [00:05<00:00, 185.57it/s]\n"
     ]
    },
    {
     "name": "stdout",
     "output_type": "stream",
     "text": [
      "msong\n",
      "992272 7\n",
      "Detected 992272 points with dimension 420\n",
      "Aligning dimension to 432\n",
      "Detected 200 points with dimension 420\n",
      "Aligning dimension to 432\n"
     ]
    },
    {
     "name": "stderr",
     "output_type": "stream",
     "text": [
      "100%|██████████| 200/200 [00:01<00:00, 181.40it/s]\n"
     ]
    }
   ],
   "source": [
    "# load each dataset and get stats on the filters\n",
    "stats = defaultdict(dict)\n",
    "for name in vector_extensions.keys():\n",
    "    print(name)\n",
    "\n",
    "    ds_constructor = wp.init_filtered_dataset(types[name][0], types[name][1])\n",
    "    ds = ds_constructor(DATA_DIR + vector_extensions[name], DATA_DIR + metadata_extensions[name])\n",
    "    qs = ds_constructor(DATA_DIR + query_vector_extensions[name], DATA_DIR + query_metadata_extensions[name])\n",
    "    \n",
    "    print(ds.size(), ds.get_n_filters())\n",
    "    stats[name]['size'] = ds.size()\n",
    "    stats[name]['dim'] = ds.get_dim()\n",
    "    \n",
    "    stats[name]['n_filters'] = ds.get_n_filters()\n",
    "    \n",
    "    filter_sizes = [ds.get_filter_size(i) for i in range(ds.get_n_filters())]\n",
    "    stats[name]['filter_sizes'] = filter_sizes\n",
    "    stats[name]['max_filter'] = max(filter_sizes)\n",
    "    stats[name]['min_filter'] = min(filter_sizes)\n",
    "    stats[name]['mean_filter'] = np.mean(filter_sizes)\n",
    "    stats[name]['median_filter'] = np.median(filter_sizes)\n",
    "\n",
    "\n",
    "    # computing pareto distribution stats\n",
    "    stats[name]['total_associations'] = sum(filter_sizes)\n",
    "    eighty_percent_accum = 0\n",
    "    for i, size in enumerate(sorted(filter_sizes, reverse=True)):\n",
    "        eighty_percent_accum += size\n",
    "        if eighty_percent_accum >= 0.8 * stats[name]['total_associations']:\n",
    "            stats[name]['pareto_80'] = i / ds.get_n_filters()\n",
    "            break\n",
    "\n",
    "    # query stats\n",
    "    stats[name]['n_queries'] = qs.size()\n",
    "    filter_sizes = [qs.get_point_size(i) for i in range(qs.size())]\n",
    "    stats[name]['and_queries'] = sum(filter_sizes) - qs.size()\n",
    "    \n",
    "    # computing selectivities\n",
    "    filters = [qs.get_point_filters(i) for i in range(qs.size())]\n",
    "    selectivities = []\n",
    "    for f in tqdm(filters):\n",
    "        if len(f) == 1:\n",
    "            selectivities.append(ds.get_filter_size(f[0]) / ds.size())\n",
    "        else:\n",
    "            selectivities.append(ds.get_filter_intersection(f[0], f[1]).size / ds.size())\n",
    "\n",
    "    # point_sizes = [ds.get_point_size(i) for i in range(ds.size())]\n",
    "    # stats[name]['point_sizes'] = point_sizes\n",
    "    # stats[name]['max_point'] = max(point_sizes)\n",
    "    # stats[name]['min_point'] = min(point_sizes)\n",
    "    # stats[name]['mean_point'] = np.mean(point_sizes)\n",
    "    # stats[name]['median_point'] = np.median(point_sizes)\n",
    "            \n",
    "    \n",
    "    del ds\n",
    "    del qs\n",
    "\n"
   ]
  },
  {
   "cell_type": "code",
   "execution_count": 37,
   "metadata": {},
   "outputs": [
    {
     "name": "stdout",
     "output_type": "stream",
     "text": [
      "Detected 35000000 points with dimension 768\n",
      "[(23512476, 226), (13907171, 199), (1275455, 191), (18354251, 176), (24939530, 166), (23081430, 161), (12194598, 151), (4524939, 147), (28391369, 147), (3875454, 143)]\n",
      "34999999\n"
     ]
    }
   ],
   "source": [
    "ds_constructor = wp.init_filtered_dataset('Euclidian', 'uint8')\n",
    "wiki_ds = ds_constructor(DATA_DIR + vector_extensions['wiki_sentence'], DATA_DIR + metadata_extensions['wiki_sentence'])\n",
    "\n",
    "filter_sizes = [wiki_ds.get_filter_size(i) for i in range(wiki_ds.get_n_filters())]\n",
    "largest_label = np.argmax(filter_sizes)\n",
    "from collections import Counter\n",
    "labels = Counter(wiki_ds.get_filter_points(largest_label))\n",
    "print(labels.most_common(10))\n",
    "print(max(labels.keys()))"
   ]
  },
  {
   "cell_type": "code",
   "execution_count": 41,
   "metadata": {},
   "outputs": [
    {
     "data": {
      "text/plain": [
       "array([   0,    0,    0, ..., 3967, 3992, 3993], dtype=int32)"
      ]
     },
     "execution_count": 41,
     "metadata": {},
     "output_type": "execute_result"
    }
   ],
   "source": [
    "wiki_ds.get_point_filters(23512476)"
   ]
  },
  {
   "cell_type": "code",
   "execution_count": 40,
   "metadata": {},
   "outputs": [
    {
     "data": {
      "text/plain": [
       "0"
      ]
     },
     "execution_count": 40,
     "metadata": {},
     "output_type": "execute_result"
    }
   ],
   "source": [
    "largest_label"
   ]
  },
  {
   "cell_type": "code",
   "execution_count": 30,
   "metadata": {
    "notebookRunGroups": {
     "groupValue": "1"
    }
   },
   "outputs": [],
   "source": [
    "def parse_big_int(n):\n",
    "    if n >= 10**12:\n",
    "        return f\"{n / 10**12:3.0f}T\"\n",
    "    if n >= 10**9:\n",
    "        return f\"{n / 10**9:3.0f}B\"\n",
    "    if n >= 10**6:\n",
    "        return f\"{n / 10**6:3.0f}M\"\n",
    "    if n >= 10**3:\n",
    "        return f\"{n / 10**3:3.0f}K\"\n",
    "    return str(n)"
   ]
  },
  {
   "cell_type": "code",
   "execution_count": 31,
   "metadata": {
    "notebookRunGroups": {
     "groupValue": "1"
    }
   },
   "outputs": [
    {
     "data": {
      "text/html": [
       "<div>\n",
       "<style scoped>\n",
       "    .dataframe tbody tr th:only-of-type {\n",
       "        vertical-align: middle;\n",
       "    }\n",
       "\n",
       "    .dataframe tbody tr th {\n",
       "        vertical-align: top;\n",
       "    }\n",
       "\n",
       "    .dataframe thead th {\n",
       "        text-align: right;\n",
       "    }\n",
       "</style>\n",
       "<table border=\"1\" class=\"dataframe\">\n",
       "  <thead>\n",
       "    <tr style=\"text-align: right;\">\n",
       "      <th></th>\n",
       "      <th>size</th>\n",
       "      <th>dim</th>\n",
       "      <th>n_filters</th>\n",
       "      <th>max_filter</th>\n",
       "      <th>min_filter</th>\n",
       "      <th>mean_filter</th>\n",
       "      <th>median_filter</th>\n",
       "      <th>total_associations</th>\n",
       "      <th>pareto_80</th>\n",
       "      <th>n_queries</th>\n",
       "      <th>and_queries</th>\n",
       "    </tr>\n",
       "  </thead>\n",
       "  <tbody>\n",
       "    <tr>\n",
       "      <th>yfcc-10M</th>\n",
       "      <td>10M</td>\n",
       "      <td>192</td>\n",
       "      <td>200386</td>\n",
       "      <td>3386745</td>\n",
       "      <td>0</td>\n",
       "      <td>540.01016</td>\n",
       "      <td>54.0</td>\n",
       "      <td>108M</td>\n",
       "      <td>0.053806</td>\n",
       "      <td>100000</td>\n",
       "      <td>38374</td>\n",
       "    </tr>\n",
       "    <tr>\n",
       "      <th>wiki_sentence</th>\n",
       "      <td>35M</td>\n",
       "      <td>768</td>\n",
       "      <td>4000</td>\n",
       "      <td>32583414</td>\n",
       "      <td>33163</td>\n",
       "      <td>285686.795</td>\n",
       "      <td>104433.5</td>\n",
       "      <td>1B</td>\n",
       "      <td>0.3295</td>\n",
       "      <td>5000</td>\n",
       "      <td>5000</td>\n",
       "    </tr>\n",
       "    <tr>\n",
       "      <th>uqv</th>\n",
       "      <td>1M</td>\n",
       "      <td>256</td>\n",
       "      <td>7</td>\n",
       "      <td>500254</td>\n",
       "      <td>332459</td>\n",
       "      <td>428571.428571</td>\n",
       "      <td>499746.0</td>\n",
       "      <td>3M</td>\n",
       "      <td>0.714286</td>\n",
       "      <td>10000</td>\n",
       "      <td>10000</td>\n",
       "    </tr>\n",
       "    <tr>\n",
       "      <th>audio</th>\n",
       "      <td>53K</td>\n",
       "      <td>192</td>\n",
       "      <td>7</td>\n",
       "      <td>26778</td>\n",
       "      <td>17700</td>\n",
       "      <td>22880.142857</td>\n",
       "      <td>26609.0</td>\n",
       "      <td>160K</td>\n",
       "      <td>0.714286</td>\n",
       "      <td>200</td>\n",
       "      <td>200</td>\n",
       "    </tr>\n",
       "    <tr>\n",
       "      <th>crawl</th>\n",
       "      <td>2M</td>\n",
       "      <td>300</td>\n",
       "      <td>7</td>\n",
       "      <td>995481</td>\n",
       "      <td>661618</td>\n",
       "      <td>852855.0</td>\n",
       "      <td>994514.0</td>\n",
       "      <td>6M</td>\n",
       "      <td>0.714286</td>\n",
       "      <td>10000</td>\n",
       "      <td>10000</td>\n",
       "    </tr>\n",
       "    <tr>\n",
       "      <th>sift</th>\n",
       "      <td>1M</td>\n",
       "      <td>128</td>\n",
       "      <td>7</td>\n",
       "      <td>500254</td>\n",
       "      <td>332459</td>\n",
       "      <td>428571.428571</td>\n",
       "      <td>499746.0</td>\n",
       "      <td>3M</td>\n",
       "      <td>0.714286</td>\n",
       "      <td>10000</td>\n",
       "      <td>10000</td>\n",
       "    </tr>\n",
       "    <tr>\n",
       "      <th>gist</th>\n",
       "      <td>1M</td>\n",
       "      <td>960</td>\n",
       "      <td>7</td>\n",
       "      <td>500254</td>\n",
       "      <td>332459</td>\n",
       "      <td>428571.428571</td>\n",
       "      <td>499746.0</td>\n",
       "      <td>3M</td>\n",
       "      <td>0.714286</td>\n",
       "      <td>1000</td>\n",
       "      <td>1000</td>\n",
       "    </tr>\n",
       "    <tr>\n",
       "      <th>msong</th>\n",
       "      <td>992K</td>\n",
       "      <td>420</td>\n",
       "      <td>7</td>\n",
       "      <td>496374</td>\n",
       "      <td>329920</td>\n",
       "      <td>425259.428571</td>\n",
       "      <td>495898.0</td>\n",
       "      <td>3M</td>\n",
       "      <td>0.714286</td>\n",
       "      <td>200</td>\n",
       "      <td>200</td>\n",
       "    </tr>\n",
       "  </tbody>\n",
       "</table>\n",
       "</div>"
      ],
      "text/plain": [
       "               size  dim n_filters max_filter min_filter    mean_filter  \\\n",
       "yfcc-10M        10M  192    200386    3386745          0      540.01016   \n",
       "wiki_sentence   35M  768      4000   32583414      33163     285686.795   \n",
       "uqv              1M  256         7     500254     332459  428571.428571   \n",
       "audio           53K  192         7      26778      17700   22880.142857   \n",
       "crawl            2M  300         7     995481     661618       852855.0   \n",
       "sift             1M  128         7     500254     332459  428571.428571   \n",
       "gist             1M  960         7     500254     332459  428571.428571   \n",
       "msong          992K  420         7     496374     329920  425259.428571   \n",
       "\n",
       "              median_filter total_associations pareto_80 n_queries and_queries  \n",
       "yfcc-10M               54.0               108M  0.053806    100000       38374  \n",
       "wiki_sentence      104433.5                 1B    0.3295      5000        5000  \n",
       "uqv                499746.0                 3M  0.714286     10000       10000  \n",
       "audio               26609.0               160K  0.714286       200         200  \n",
       "crawl              994514.0                 6M  0.714286     10000       10000  \n",
       "sift               499746.0                 3M  0.714286     10000       10000  \n",
       "gist               499746.0                 3M  0.714286      1000        1000  \n",
       "msong              495898.0                 3M  0.714286       200         200  "
      ]
     },
     "execution_count": 31,
     "metadata": {},
     "output_type": "execute_result"
    }
   ],
   "source": [
    "# latex table with the stats for each dataset\n",
    "df = pd.DataFrame(stats).transpose()\n",
    "df['size'] = df['size'].apply(parse_big_int)\n",
    "df['total_associations'] = df['total_associations'].apply(parse_big_int)\n",
    "\n",
    "df.drop(columns=['filter_sizes'], inplace=True)\n",
    "df"
   ]
  },
  {
   "cell_type": "code",
   "execution_count": 35,
   "metadata": {},
   "outputs": [
    {
     "name": "stdout",
     "output_type": "stream",
     "text": [
      "\\begin{table*}[ht]\n",
      "\\centering\n",
      "\\begin{tabular}{|c|c|c|c|c|c|c|c|c|c|c|}\n",
      "\\hline\n",
      "Dataset & $n$ & $d$ & $n_f$ & Max $|f_i|$ & Mean $|f_i|$ & Median $|f_i|$ & Total Associations & 80\\% Pareto & $n_q$ & $n_{\\cap}$\\\\\n",
      "\\hline\n",
      "YFCC-10M &  10M & 192 & 200,386 & 3,386,745 & 540 & 54 & 108M & 0.05 & 100,000 & 38,374\\\\\n",
      "wiki-paragraphs &  35M & 768 & 4,000 & 32,583,414 & 285,687 & 104,434 &   1B & 0.33 & 5,000 & 5,000\\\\\n",
      "UQ-V &   1M & 256 & 7 & 500,254 & 428,571 & 499,746 &   3M & 0.71 & 10,000 & 10,000\\\\\n",
      "Audio &  53K & 192 & 7 & 26,778 & 22,880 & 26,609 & 160K & 0.71 & 200 & 200\\\\\n",
      "Crawl &   2M & 300 & 7 & 995,481 & 852,855 & 994,514 &   6M & 0.71 & 10,000 & 10,000\\\\\n",
      "SIFT1M &   1M & 128 & 7 & 500,254 & 428,571 & 499,746 &   3M & 0.71 & 10,000 & 10,000\\\\\n",
      "GIST1M &   1M & 960 & 7 & 500,254 & 428,571 & 499,746 &   3M & 0.71 & 1,000 & 1,000\\\\\n",
      "MSong & 992K & 420 & 7 & 496,374 & 425,259 & 495,898 &   3M & 0.71 & 200 & 200\\\\\n",
      "\\hline\n",
      "\\end{tabular}\n",
      "\\caption{Dataset statistics. Total associations is the number of point-label associations in the dataset. 80\\% Pareto is the portion of labels responsible for 80\\% of all point-label associations in the dataset. $n_q$ is the number of queries, and $n_{\\cap}$ is the number of AND queries with a filter conditioning on two labels.}\n",
      "\\label{tab:dataset_stats}\n",
      "\\end{table*}\n"
     ]
    }
   ],
   "source": [
    "columns = ['Dataset', '$n$', '$d$', '$n_f$', 'Max $|f_i|$', 'Mean $|f_i|$', 'Median $|f_i|$', 'Total Associations', '80\\% Pareto', '$n_q$', '$n_{\\cap}$']\n",
    "\n",
    "caption = \"Dataset statistics. Total associations is the number of point-label associations in the dataset. 80\\% Pareto is the portion of labels responsible for 80\\% of all point-label associations in the dataset. $n_q$ is the number of queries, and $n_{\\cap}$ is the number of AND queries with a filter conditioning on two labels.\"\n",
    "\n",
    "dataset_names = {'yfcc-10M': 'YFCC-10M', 'wiki_sentence': 'wiki-paragraphs', 'uqv': 'UQ-V', 'audio': 'Audio', 'crawl': 'Crawl', 'sift': 'SIFT1M', 'gist': 'GIST1M', 'msong': 'MSong'}\n",
    "\n",
    "latex_table = \"\\\\begin{table*}[ht]\\n\\\\centering\\n\\\\begin{tabular}{|c|c|c|c|c|c|c|c|c|c|c|}\\n\\\\hline\\n\"\n",
    "latex_table += \" & \".join(columns) + \"\\\\\\\\\\n\\\\hline\\n\"\n",
    "for i, row in df.iterrows():\n",
    "    latex_table += f\"{dataset_names[i]} & {row['size']} & {row['dim']} & {row['n_filters']:,} & {row['max_filter']:,} & {row['mean_filter']:,.0f} & {round(row['median_filter']):,} & {row['total_associations']} & {row['pareto_80']:,.2f} & {row['n_queries']:,} & {row['and_queries']:,}\\\\\\\\\\n\"\n",
    "\n",
    "latex_table += \"\\\\hline\\n\\\\end{tabular}\\n\\\\caption{\" + caption + \"}\\n\\\\label{tab:dataset_stats}\\n\\\\end{table*}\"\n",
    "print(latex_table)"
   ]
  },
  {
   "cell_type": "code",
   "execution_count": 24,
   "metadata": {},
   "outputs": [
    {
     "name": "stdout",
     "output_type": "stream",
     "text": [
      "yfcc-10M 10000000 200386\n",
      "wiki_sentence 35000000 4000\n",
      "uqv 1000000 7\n",
      "audio 53387 7\n",
      "crawl 1989995 7\n",
      "sift 1000000 7\n",
      "gist 1000000 7\n",
      "msong 992272 7\n"
     ]
    },
    {
     "data": {
      "image/png": "[encoded data removed]",
      "text/plain": [
       "<Figure size 640x480 with 1 Axes>"
      ]
     },
     "metadata": {},
     "output_type": "display_data"
    }
   ],
   "source": [
    "# plot the filter size frequencies on a log scale together as lines\n",
    "import matplotlib.pyplot as plt\n",
    "\n",
    "fig, ax = plt.subplots()\n",
    "\n",
    "for name in stats.keys():\n",
    "    # we sort the filter sizes, then plot the index of the filter size against the filter size\n",
    "    print(name, stats[name]['size'], stats[name]['n_filters'])\n",
    "    filter_sizes = np.array(stats[name]['filter_sizes'])\n",
    "    filter_sizes.sort()\n",
    "    filter_sizes = filter_sizes / stats[name]['size']\n",
    "    ax.plot(filter_sizes[::-1], label=name)\n",
    "\n",
    "ax.set_xscale('log')\n",
    "ax.set_yscale('log')\n",
    "ax.legend()\n",
    "plt.title(\"Distributions of Label Sizes\")\n",
    "plt.show()"
   ]
  }
 ],
 "metadata": {
  "kernelspec": {
   "display_name": "Python 3.10.12 64-bit",
   "language": "python",
   "name": "python3"
  },
  "language_info": {
   "codemirror_mode": {
    "name": "ipython",
    "version": 3
   },
   "file_extension": ".py",
   "mimetype": "text/x-python",
   "name": "python",
   "nbconvert_exporter": "python",
   "pygments_lexer": "ipython3",
   "version": "3.10.12"
  },
  "vscode": {
   "interpreter": {
    "hash": "916dbcbb3f70747c44a77c7bcd40155683ae19c65e1c03b4aa3499c5328201f1"
   }
  }
 },
 "nbformat": 4,
 "nbformat_minor": 2
}
